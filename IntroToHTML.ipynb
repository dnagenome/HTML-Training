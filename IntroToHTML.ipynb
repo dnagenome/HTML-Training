{
  "nbformat": 4,
  "nbformat_minor": 0,
  "metadata": {
    "colab": {
      "provenance": [],
      "authorship_tag": "ABX9TyOkhBNnj4nqkMEpD+SVv20R",
      "include_colab_link": true
    },
    "kernelspec": {
      "name": "python3",
      "display_name": "Python 3"
    },
    "language_info": {
      "name": "python"
    }
  },
  "cells": [
    {
      "cell_type": "markdown",
      "metadata": {
        "id": "view-in-github",
        "colab_type": "text"
      },
      "source": [
        "<a href=\"https://colab.research.google.com/github/dnagenome/HTML-Training/blob/main/IntroToHTML.ipynb\" target=\"_parent\"><img src=\"https://colab.research.google.com/assets/colab-badge.svg\" alt=\"Open In Colab\"/></a>"
      ]
    },
    {
      "cell_type": "markdown",
      "source": [
        "HTML, CSS, Javascript for front-end (Client-facing)\n",
        "SQL, Node JS, Python, etc for back-end (Database and collected data)"
      ],
      "metadata": {
        "id": "iJEUoO8b8Bp0"
      }
    },
    {
      "cell_type": "code",
      "source": [
        "#Javascript Section\n"
      ],
      "metadata": {
        "id": "cwMOZzYm8fUU"
      },
      "execution_count": null,
      "outputs": []
    },
    {
      "cell_type": "code",
      "source": [
        "<!-- HTML Section -->\n",
        "<!DOCTYPE html>\n",
        "<html lang=\"en\">\n",
        "\n",
        "</html>\n",
        "<meta charset=\"utf-8\">\n",
        "<meta name=\"viewport\" content=\"width=device-width\">\n",
        "<title>\n",
        "\tMUDding\n",
        "</title>\n",
        "<style>\n",
        "\n",
        "</style>\n",
        "</head>\n",
        "\n",
        "<body>\n",
        "\n",
        "  <div id=\"logoandtitle\">\n",
        "\t<img id=\"test1\" src=\"https://external-content.duckduckgo.com/iu/?u=https%3A%2F%2Ftse1.mm.bing.net%2Fth%3Fid%3DOIP.GGAs1O-ZmfBJGBCDcj0KpgAAAA%26pid%3DApi&f=1&ipt=ee4df359420ed81956bdb947487f22c3a776a9bb229e8f319110247d4f0caf92&ipo=images\"/>\n",
        "\t<p>\n",
        "\t\tThis is the start of a MUD site.\n",
        "\t</p>\n",
        "  </div>\n",
        "\t<h1>\n",
        "\t\tH1 Header\n",
        "\t</h1>\n",
        "\n",
        "\t<a href=\"\">\n",
        "\t\tHome\n",
        "\t</a>\n",
        "\n",
        "\t<a href=\"https://www.google.com\">\n",
        "\t\tGoogle\n",
        "\t</a>\n",
        "\n",
        "\t<a href=\"#test2\">\n",
        "\t\tTest 2 Image\n",
        "\t</a>\n",
        "\n",
        "\t<h2>\n",
        "\t\tH2 Header\n",
        "\t</h2>\n",
        "\t<h3>\n",
        "\t\tH3 Header\n",
        "\t</h3>\n",
        "\t<h4>\n",
        "\t\tH4 Header\n",
        "\t</h4>\n",
        "\t<h5>\n",
        "\t\tH5 Header\n",
        "\t</h5>\n",
        "\t<h6>\n",
        "\t\tH6 Header is the maximum number of headers.\n",
        "\t</h6>\n",
        "\n",
        "\t<img id=\"test2\" src=\"https://external-content.duckduckgo.com/iu/?u=https%3A%2F%2Ftse1.mm.bing.net%2Fth%3Fid%3DOIP.Eib_F-NYXZeCsu355BnugwHaHa%26pid%3DApi&f=1&ipt=72364823ece3b7b155d90ba715620f19005e0e4ec96caa8c4580ddda3b965ad6&ipo=images\" />\n",
        "\n",
        "  </body>\n",
        "\n",
        "\t</html>"
      ],
      "metadata": {
        "id": "dYCmY5xe8vs9"
      },
      "execution_count": null,
      "outputs": []
    },
    {
      "cell_type": "code",
      "source": [
        "/* CSS Section */\n",
        "body {\n",
        "\n",
        "      background-color: green;\n",
        "      color: white;\n",
        "      font-family: Arial, Helvetica, sans-serif;\n",
        "      width: 100%;\n",
        "      height: 100%;\n",
        "      /* overflow: hidden; */\n",
        "}\n",
        "\n",
        "p {\n",
        "    font-size: 12;\n",
        "}\n",
        "\n",
        "#test1 {\n",
        "\n",
        "    width: 30%;\n",
        "\n",
        "}\n",
        "\n",
        "#test2 {\n",
        "    width: 200px;\n",
        "}\n",
        "\n",
        "a {\n",
        "\n",
        "    text-decoration: underline;\n",
        "    color: white;\n",
        "\n",
        "}\n",
        "#logoandtitle {\n",
        "  display: flex;\n",
        "  flex-direction: row;\n",
        "  align-items: center;\n",
        "}"
      ],
      "metadata": {
        "id": "Gx9MewI28yF2"
      },
      "execution_count": null,
      "outputs": []
    }
  ]
}